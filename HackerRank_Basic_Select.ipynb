{
 "cells": [
  {
   "cell_type": "markdown",
   "id": "0b6551a1",
   "metadata": {},
   "source": [
    "# Basic Select"
   ]
  },
  {
   "cell_type": "code",
   "execution_count": null,
   "id": "407e5415",
   "metadata": {},
   "outputs": [],
   "source": [
    "--Revising the Select Query I\n",
    "\n",
    "select *\n",
    "from city\n",
    "where countrycode='USA' and population > 100000;"
   ]
  },
  {
   "cell_type": "code",
   "execution_count": null,
   "id": "636ed0dd",
   "metadata": {},
   "outputs": [],
   "source": [
    "--Revising the Select Query II\n",
    "\n",
    "select name\n",
    "from city\n",
    "where population>120000 and countrycode='USA';"
   ]
  },
  {
   "cell_type": "code",
   "execution_count": null,
   "id": "2fa445c5",
   "metadata": {},
   "outputs": [],
   "source": [
    "--Select All\n",
    "\n",
    "select *\n",
    "from city;"
   ]
  },
  {
   "cell_type": "code",
   "execution_count": null,
   "id": "c90d1095",
   "metadata": {},
   "outputs": [],
   "source": [
    "--Select By ID\n",
    "\n",
    "select *\n",
    "from city\n",
    "where id=1661;"
   ]
  },
  {
   "cell_type": "code",
   "execution_count": null,
   "id": "e651c8f3",
   "metadata": {},
   "outputs": [],
   "source": [
    "--Japanese Cities' Attributes\n",
    "\n",
    "select *\n",
    "from city\n",
    "where COUNTRYCODE = 'JPN';"
   ]
  },
  {
   "cell_type": "code",
   "execution_count": null,
   "id": "1b15ef36",
   "metadata": {},
   "outputs": [],
   "source": [
    "--Japanese Cities' Names\n",
    "\n",
    "select name\n",
    "from city\n",
    "where COUNTRYCODE='JPN';"
   ]
  },
  {
   "cell_type": "code",
   "execution_count": null,
   "id": "968eee22",
   "metadata": {},
   "outputs": [],
   "source": [
    "--weather-observation-station-1\n",
    "\n",
    "select city,state\n",
    "from station;"
   ]
  },
  {
   "cell_type": "code",
   "execution_count": null,
   "id": "60596251",
   "metadata": {},
   "outputs": [],
   "source": [
    "--Weather Observation Station 3\n",
    "\n",
    "select distinct(city)\n",
    "from station\n",
    "where mod(id,2)=0;"
   ]
  },
  {
   "cell_type": "code",
   "execution_count": null,
   "id": "705d3a35",
   "metadata": {},
   "outputs": [],
   "source": [
    "--Weather Observation Station 4\n",
    "\n",
    "select count(CITY)-count(distinct(CITY))\n",
    "from STATION;"
   ]
  },
  {
   "cell_type": "code",
   "execution_count": null,
   "id": "b5c6d692",
   "metadata": {},
   "outputs": [],
   "source": [
    "--Weather Observation Station 5\n",
    "\n",
    "select top 1 city, len(city)\n",
    "from station\n",
    "order by len(city), city asc\n",
    ";\n",
    "select top 1  city, len(city)\n",
    "from station\n",
    "order by len(city) desc\n",
    ";"
   ]
  },
  {
   "cell_type": "code",
   "execution_count": null,
   "id": "cec8aa20",
   "metadata": {},
   "outputs": [],
   "source": [
    "--Weather Observation Station 6\n",
    "\n",
    "select distinct city\n",
    "from station\n",
    "where city like '[a,e,i,o,u]%';"
   ]
  },
  {
   "cell_type": "code",
   "execution_count": null,
   "id": "50ce9c4e",
   "metadata": {},
   "outputs": [],
   "source": [
    "--Weather Observation Station 7\n",
    "\n",
    "select distinct city\n",
    "from station\n",
    "where city like '%[a,e,i,o,u]';"
   ]
  },
  {
   "cell_type": "code",
   "execution_count": null,
   "id": "a56aac40",
   "metadata": {},
   "outputs": [],
   "source": [
    "--Weather Observation Station 8\n",
    "\n",
    "\n",
    "select distinct city\n",
    "from station\n",
    "where city like '[a,e,i,o,u]%' and city like '%[a,e,i,o,u]';"
   ]
  },
  {
   "cell_type": "code",
   "execution_count": null,
   "id": "540ed01d",
   "metadata": {},
   "outputs": [],
   "source": [
    "--Weather Observation Station 9 \n",
    "\n",
    "select distinct city\n",
    "from station\n",
    "where city not like '[a,e,i,o,u]%' ;"
   ]
  },
  {
   "cell_type": "code",
   "execution_count": null,
   "id": "f58135b8",
   "metadata": {},
   "outputs": [],
   "source": [
    "--Weather Observation Station 10 \n",
    "\n",
    "select distinct city\n",
    "from station\n",
    "where city not like '%[a,e,u,o,i]';"
   ]
  },
  {
   "cell_type": "code",
   "execution_count": null,
   "id": "3b3804c4",
   "metadata": {},
   "outputs": [],
   "source": [
    "--Weather Observation Station 11\n",
    "\n",
    "select distinct city\n",
    "from station\n",
    "where city not like '%[a,e,u,i,o]' or city not like '[a,e,u,i,o]%'\n",
    ";"
   ]
  },
  {
   "cell_type": "code",
   "execution_count": null,
   "id": "bdf28e3e",
   "metadata": {},
   "outputs": [],
   "source": [
    "--Weather Observation Station 12 \n",
    "\n",
    "select distinct city\n",
    "from station\n",
    "where city not like '%[a,e,u,i,o]' and city not like '[a,e,u,i,o]%'\n"
   ]
  },
  {
   "cell_type": "code",
   "execution_count": null,
   "id": "b6c47034",
   "metadata": {},
   "outputs": [],
   "source": [
    "--Higher Than 75 Marks\n",
    "\n",
    "select name \n",
    "from students\n",
    "where marks>75\n",
    "--order by right(name, 3), id asc;\n",
    "order by substring(name,len(name)-2,3), id; "
   ]
  },
  {
   "cell_type": "code",
   "execution_count": null,
   "id": "812d0327",
   "metadata": {},
   "outputs": [],
   "source": [
    "--Employee Names \n",
    "\n",
    "Select name\n",
    "from Employee\n",
    "order by 1 ;"
   ]
  },
  {
   "cell_type": "code",
   "execution_count": null,
   "id": "67d182c8",
   "metadata": {},
   "outputs": [],
   "source": [
    "--Employee Salaries\n",
    "\n",
    "select name \n",
    "from employee\n",
    "where  salary>2000 and months<10\n",
    "order by employee_id;"
   ]
  }
 ],
 "metadata": {
  "kernelspec": {
   "display_name": "Python 3 (ipykernel)",
   "language": "python",
   "name": "python3"
  },
  "language_info": {
   "codemirror_mode": {
    "name": "ipython",
    "version": 3
   },
   "file_extension": ".py",
   "mimetype": "text/x-python",
   "name": "python",
   "nbconvert_exporter": "python",
   "pygments_lexer": "ipython3",
   "version": "3.9.13"
  }
 },
 "nbformat": 4,
 "nbformat_minor": 5
}
